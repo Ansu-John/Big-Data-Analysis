{
 "cells": [
  {
   "cell_type": "code",
   "execution_count": 1,
   "metadata": {},
   "outputs": [],
   "source": [
    "from pyspark.sql.types import StringType, IntegerType, StructType, StructField\n",
    "from pyspark.sql import SparkSession\n",
    "from pyspark.sql import functions as f"
   ]
  },
  {
   "cell_type": "code",
   "execution_count": 2,
   "metadata": {},
   "outputs": [],
   "source": [
    "spark = SparkSession.builder.appName(\"DF-Popular-Superhero\").config(\"spark.sql.crossJoin.enabled\",\"true\").getOrCreate()"
   ]
  },
  {
   "cell_type": "markdown",
   "metadata": {},
   "source": [
    "# Load and Verify Data"
   ]
  },
  {
   "cell_type": "markdown",
   "metadata": {},
   "source": [
    "Marvel-Graph --> Super hero ID followed by their super hero friends ID. One superhero can have friends spanning multiple lines.\n",
    "\n",
    "Marvel-Names --> Super hero details"
   ]
  },
  {
   "cell_type": "code",
   "execution_count": 3,
   "metadata": {},
   "outputs": [],
   "source": [
    "# Create schema when reading u.data\n",
    "schema = StructType([StructField('id', IntegerType(), True),\n",
    "                     StructField('name', StringType(), True)])"
   ]
  },
  {
   "cell_type": "code",
   "execution_count": 4,
   "metadata": {},
   "outputs": [],
   "source": [
    "heroNames = spark.read.csv('resources/Marvel-Names.txt',sep = ' ', schema = schema)\n",
    "heroFriends = spark.read.text('resources/Marvel-Graph.txt')"
   ]
  },
  {
   "cell_type": "code",
   "execution_count": 5,
   "metadata": {},
   "outputs": [
    {
     "name": "stdout",
     "output_type": "stream",
     "text": [
      "root\n",
      " |-- id: integer (nullable = true)\n",
      " |-- name: string (nullable = true)\n",
      "\n"
     ]
    }
   ],
   "source": [
    "heroNames.printSchema()"
   ]
  },
  {
   "cell_type": "code",
   "execution_count": 6,
   "metadata": {},
   "outputs": [
    {
     "name": "stdout",
     "output_type": "stream",
     "text": [
      "root\n",
      " |-- value: string (nullable = true)\n",
      "\n"
     ]
    }
   ],
   "source": [
    "heroFriends.printSchema()"
   ]
  },
  {
   "cell_type": "code",
   "execution_count": 7,
   "metadata": {},
   "outputs": [
    {
     "data": {
      "text/plain": [
       "[Row(id=1, name='24-HOUR MAN/EMMANUEL'),\n",
       " Row(id=2, name='3-D MAN/CHARLES CHAN'),\n",
       " Row(id=3, name='4-D MAN/MERCURIO')]"
      ]
     },
     "execution_count": 7,
     "metadata": {},
     "output_type": "execute_result"
    }
   ],
   "source": [
    "heroNames.head(3)"
   ]
  },
  {
   "cell_type": "code",
   "execution_count": 8,
   "metadata": {},
   "outputs": [
    {
     "data": {
      "text/plain": [
       "[Row(value='5988 748 1722 3752 4655 5743 1872 3413 5527 6368 6085 4319 4728 1636 2397 3364 4001 1614 1819 1585 732 2660 3952 2507 3891 2070 2239 2602 612 1352 5447 4548 1596 5488 1605 5517 11 479 2554 2043 17 865 4292 6312 473 534 1479 6375 4456 '),\n",
       " Row(value='5989 4080 4264 4446 3779 2430 2297 6169 3530 3272 4282 6432 2548 4140 185 105 3878 2429 1334 4595 2767 3956 3877 4776 4946 3407 128 269 5775 5121 481 5516 4758 4053 1044 1602 3889 1535 6038 533 3986 '),\n",
       " Row(value='5982 217 595 1194 3308 2940 1815 794 1503 5197 859 5096 6039 2664 651 2244 528 284 1449 1097 1172 1092 108 3405 5204 387 4607 4545 3705 4930 1805 4712 4404 247 4754 4427 1845 536 5795 5978 533 3984 6056 ')]"
      ]
     },
     "execution_count": 8,
     "metadata": {},
     "output_type": "execute_result"
    }
   ],
   "source": [
    "heroFriends.head(3)"
   ]
  },
  {
   "cell_type": "code",
   "execution_count": 9,
   "metadata": {},
   "outputs": [
    {
     "data": {
      "text/plain": [
       "['id', 'name']"
      ]
     },
     "execution_count": 9,
     "metadata": {},
     "output_type": "execute_result"
    }
   ],
   "source": [
    "heroNames.columns"
   ]
  },
  {
   "cell_type": "code",
   "execution_count": 10,
   "metadata": {},
   "outputs": [
    {
     "data": {
      "text/plain": [
       "['value']"
      ]
     },
     "execution_count": 10,
     "metadata": {},
     "output_type": "execute_result"
    }
   ],
   "source": [
    "heroFriends.columns"
   ]
  },
  {
   "cell_type": "code",
   "execution_count": 11,
   "metadata": {},
   "outputs": [
    {
     "name": "stdout",
     "output_type": "stream",
     "text": [
      "+-------+------------------+--------+\n",
      "|summary|                id|    name|\n",
      "+-------+------------------+--------+\n",
      "|  count|             19428|   19427|\n",
      "|   mean|            9714.5|Infinity|\n",
      "| stddev|5608.5248506180305|     NaN|\n",
      "|    min|                 1| 2001 10|\n",
      "|    max|             19428| �GAMORA|\n",
      "+-------+------------------+--------+\n",
      "\n"
     ]
    }
   ],
   "source": [
    "heroNames.describe().show()"
   ]
  },
  {
   "cell_type": "code",
   "execution_count": 12,
   "metadata": {},
   "outputs": [
    {
     "name": "stdout",
     "output_type": "stream",
     "text": [
      "+-------+--------------------+\n",
      "|summary|               value|\n",
      "+-------+--------------------+\n",
      "|  count|                6589|\n",
      "|   mean|              2998.0|\n",
      "| stddev|   1734.968203358974|\n",
      "|    min|1 1999 6471 6463 ...|\n",
      "|    max|999 1628 2960 377...|\n",
      "+-------+--------------------+\n",
      "\n"
     ]
    }
   ],
   "source": [
    "heroFriends.describe().show()"
   ]
  },
  {
   "cell_type": "markdown",
   "metadata": {},
   "source": [
    "# Split Marvel-Graph data to find number of connections for each super hero"
   ]
  },
  {
   "cell_type": "code",
   "execution_count": 13,
   "metadata": {},
   "outputs": [
    {
     "name": "stdout",
     "output_type": "stream",
     "text": [
      "+----+-----------+\n",
      "|  id|connections|\n",
      "+----+-----------+\n",
      "| 691|          7|\n",
      "|1159|         12|\n",
      "|3959|        143|\n",
      "+----+-----------+\n",
      "only showing top 3 rows\n",
      "\n"
     ]
    }
   ],
   "source": [
    "connections = heroFriends.withColumn(\"id\",f.split(f.col(\"value\"),\" \")[0])\\\n",
    "                         .withColumn(\"connections\",f.size(f.split(f.col(\"value\"),\" \")) -1) \\\n",
    "                         .groupBy(\"id\").agg(f.sum(\"connections\").alias(\"connections\"))\n",
    "connections.show(3)"
   ]
  },
  {
   "cell_type": "markdown",
   "metadata": {},
   "source": [
    "## Find most popular superhero"
   ]
  },
  {
   "cell_type": "code",
   "execution_count": 14,
   "metadata": {},
   "outputs": [
    {
     "name": "stdout",
     "output_type": "stream",
     "text": [
      "Row(id='859', connections=1937)\n"
     ]
    }
   ],
   "source": [
    "mostPopular = connections.sort(f.col(\"connections\").desc()).first()\n",
    "print(mostPopular)"
   ]
  },
  {
   "cell_type": "code",
   "execution_count": 15,
   "metadata": {},
   "outputs": [
    {
     "name": "stdout",
     "output_type": "stream",
     "text": [
      "Row(name='CAPTAIN AMERICA')\n"
     ]
    }
   ],
   "source": [
    "mostPopularName = heroNames.filter(f.col(\"id\")==mostPopular[0]).select(\"name\").first()\n",
    "print(mostPopularName)"
   ]
  },
  {
   "cell_type": "code",
   "execution_count": 16,
   "metadata": {},
   "outputs": [
    {
     "name": "stdout",
     "output_type": "stream",
     "text": [
      "CAPTAIN AMERICA is the most popular superhero with 1937 co-appearances\n"
     ]
    }
   ],
   "source": [
    "print(mostPopularName[0] +\" is the most popular superhero with \"+ str(mostPopular[1]) + \" co-appearances\")"
   ]
  },
  {
   "cell_type": "markdown",
   "metadata": {},
   "source": [
    "## Find most obscure superhero"
   ]
  },
  {
   "cell_type": "markdown",
   "metadata": {},
   "source": [
    "### With window function"
   ]
  },
  {
   "cell_type": "code",
   "execution_count": 17,
   "metadata": {},
   "outputs": [
    {
     "name": "stdout",
     "output_type": "stream",
     "text": [
      "+----+-----------+\n",
      "|  id|connections|\n",
      "+----+-----------+\n",
      "| 467|          1|\n",
      "| 577|          1|\n",
      "|3490|          1|\n",
      "|3489|          1|\n",
      "|2139|          1|\n",
      "|1089|          1|\n",
      "|1841|          1|\n",
      "|4517|          1|\n",
      "|5028|          1|\n",
      "| 835|          1|\n",
      "|1408|          1|\n",
      "|4784|          1|\n",
      "|4945|          1|\n",
      "|4602|          1|\n",
      "|6411|          1|\n",
      "|3014|          1|\n",
      "|3298|          1|\n",
      "|2911|          1|\n",
      "|2117|          1|\n",
      "+----+-----------+\n",
      "\n"
     ]
    }
   ],
   "source": [
    "from pyspark.sql.window import Window\n",
    "w=Window().orderBy(\"connections\")\n",
    "mostObscure = connections.withColumn(\"leastCount\", f.first(\"connections\").over(w)).filter(\"connections=leastCount\").drop(\"leastCount\")\n",
    "mostObscure.show()"
   ]
  },
  {
   "cell_type": "code",
   "execution_count": 18,
   "metadata": {},
   "outputs": [
    {
     "name": "stdout",
     "output_type": "stream",
     "text": [
      "Below is the list of most popular obscure superhero with minimum co-appearances\n"
     ]
    }
   ],
   "source": [
    "print(\"Below is the list of most popular obscure superhero with minimum co-appearances\")"
   ]
  },
  {
   "cell_type": "code",
   "execution_count": 19,
   "metadata": {},
   "outputs": [
    {
     "name": "stdout",
     "output_type": "stream",
     "text": [
      "+----+--------------------+-----------+\n",
      "|  id|                name|connections|\n",
      "+----+--------------------+-----------+\n",
      "| 467|        BERSERKER II|          1|\n",
      "| 577|              BLARE/|          1|\n",
      "|3490|MARVEL BOY II/MARTIN|          1|\n",
      "|3489|MARVEL BOY/MARTIN BU|          1|\n",
      "|2139|      GIURESCU, RADU|          1|\n",
      "|1089|       CLUMSY FOULUP|          1|\n",
      "|1841|              FENRIS|          1|\n",
      "|4517|              RANDAK|          1|\n",
      "|5028|           SHARKSKIN|          1|\n",
      "| 835|     CALLAHAN, DANNY|          1|\n",
      "|1408|         DEATHCHARGE|          1|\n",
      "|4784|                RUNE|          1|\n",
      "|4945|         SEA LEOPARD|          1|\n",
      "|4602|         RED WOLF II|          1|\n",
      "|6411|              ZANTOR|          1|\n",
      "|3014|JOHNSON, LYNDON BAIN|          1|\n",
      "|3298|          LUNATIK II|          1|\n",
      "|2911|                KULL|          1|\n",
      "|2117|GERVASE, LADY ALYSSA|          1|\n",
      "+----+--------------------+-----------+\n",
      "\n"
     ]
    }
   ],
   "source": [
    "mostObscure.join(heroNames,mostObscure.id==heroNames.id).select(mostObscure.id,heroNames.name,mostObscure.connections).show()"
   ]
  },
  {
   "cell_type": "markdown",
   "metadata": {},
   "source": [
    "### Without window function"
   ]
  },
  {
   "cell_type": "code",
   "execution_count": 20,
   "metadata": {},
   "outputs": [],
   "source": [
    "minConnectCount = connections.agg(f.min(\"connections\")).first()[0]"
   ]
  },
  {
   "cell_type": "code",
   "execution_count": 21,
   "metadata": {},
   "outputs": [],
   "source": [
    "minConnections = connections.filter(f.col(\"connections\")==minConnectCount)"
   ]
  },
  {
   "cell_type": "code",
   "execution_count": 22,
   "metadata": {},
   "outputs": [],
   "source": [
    "minConnectionsWithNames = minConnections.join(heroNames,\"id\")"
   ]
  },
  {
   "cell_type": "code",
   "execution_count": 23,
   "metadata": {},
   "outputs": [
    {
     "name": "stdout",
     "output_type": "stream",
     "text": [
      "The following characters have only 1 co-appearances\n"
     ]
    }
   ],
   "source": [
    "print(\"The following characters have only \"+ str(minConnectCount) + \" co-appearances\")"
   ]
  },
  {
   "cell_type": "code",
   "execution_count": 24,
   "metadata": {},
   "outputs": [
    {
     "name": "stdout",
     "output_type": "stream",
     "text": [
      "+--------------------+\n",
      "|                name|\n",
      "+--------------------+\n",
      "|        BERSERKER II|\n",
      "|              BLARE/|\n",
      "|MARVEL BOY II/MARTIN|\n",
      "|MARVEL BOY/MARTIN BU|\n",
      "|      GIURESCU, RADU|\n",
      "|       CLUMSY FOULUP|\n",
      "|              FENRIS|\n",
      "|              RANDAK|\n",
      "|           SHARKSKIN|\n",
      "|     CALLAHAN, DANNY|\n",
      "|         DEATHCHARGE|\n",
      "|                RUNE|\n",
      "|         SEA LEOPARD|\n",
      "|         RED WOLF II|\n",
      "|              ZANTOR|\n",
      "|JOHNSON, LYNDON BAIN|\n",
      "|          LUNATIK II|\n",
      "|                KULL|\n",
      "|GERVASE, LADY ALYSSA|\n",
      "+--------------------+\n",
      "\n"
     ]
    }
   ],
   "source": [
    "minConnectionsWithNames.select('name').show()"
   ]
  },
  {
   "cell_type": "code",
   "execution_count": 25,
   "metadata": {},
   "outputs": [],
   "source": [
    "spark.stop()"
   ]
  }
 ],
 "metadata": {
  "kernelspec": {
   "display_name": "Python 3",
   "language": "python",
   "name": "python3"
  },
  "language_info": {
   "codemirror_mode": {
    "name": "ipython",
    "version": 3
   },
   "file_extension": ".py",
   "mimetype": "text/x-python",
   "name": "python",
   "nbconvert_exporter": "python",
   "pygments_lexer": "ipython3",
   "version": "3.8.3"
  }
 },
 "nbformat": 4,
 "nbformat_minor": 4
}
